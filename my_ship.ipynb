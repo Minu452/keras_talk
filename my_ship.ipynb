{
 "cells": [
  {
   "cell_type": "code",
   "execution_count": 2,
   "metadata": {},
   "outputs": [],
   "source": [
    "\n",
    "%matplotlib inline\n",
    "import numpy as np\n",
    "import tensorflow as tf\n",
    "import matplotlib.pyplot as plt"
   ]
  },
  {
   "cell_type": "code",
   "execution_count": 3,
   "metadata": {},
   "outputs": [
    {
     "name": "stdout",
     "output_type": "stream",
     "text": [
      "(175, 64)\n",
      "(175,)\n"
     ]
    }
   ],
   "source": [
    "import requests\n",
    "import shutil\n",
    "\n",
    "import numpy as np\n",
    "\n",
    "# Load data from url\n",
    "# Copy the file content from url to local tmp.npy file \n",
    "# then load the numpy data and return\n",
    "def load_from_url(url):\n",
    "  resp = requests.get(url, stream=True)\n",
    "  \n",
    "  with open('tmp.npy', 'wb') as f:\n",
    "    shutil.copyfileobj(resp.raw, f)\n",
    "   \n",
    "  var = np.load('tmp.npy')\n",
    "  \n",
    "  return var\n",
    "#인풋 데이터 datin 변수에 로드, 아웃풋 데이터는 target 변수에 로드\n",
    "\n",
    "datin = load_from_url('https://github.com/geonhong/mlcfd/blob/master/volfrac/samples/volfrac_data.npy?raw=true')\n",
    "target = load_from_url('https://github.com/geonhong/mlcfd/blob/master/volfrac/samples/volfrac_target.npy?raw=true')\n",
    "\n",
    "print(datin.shape)\n",
    "print(target.shape)\n",
    "\n"
   ]
  },
  {
   "cell_type": "code",
   "execution_count": 57,
   "metadata": {
    "scrolled": true
   },
   "outputs": [
    {
     "name": "stdout",
     "output_type": "stream",
     "text": [
      "(175, 64)\n",
      "(175,)\n",
      "train data shape:  (140, 8, 8)\n",
      "train target shape:  (140,)\n",
      "test data shape:  (35, 8, 8)\n",
      "test target shape:  (35,)\n"
     ]
    }
   ],
   "source": [
    "dataset = datin\n",
    "targets = target\n",
    "\n",
    "print(dataset.shape)\n",
    "print(targets.shape)\n",
    "\n",
    "# Shuffle data and generate train/test data set\n",
    "# 80% of dataset is used to train the model and\n",
    "# the rest 20% is used to test\n",
    "index = np.arange(len(dataset))\n",
    "np.random.shuffle(index)\n",
    "\n",
    "train_data = []\n",
    "train_targ = []\n",
    "\n",
    "test_data = []\n",
    "test_targ = []\n",
    "\n",
    "i = 0\n",
    "ntrain = 0.8*len(dataset)\n",
    "\n",
    "for itrg in index:\n",
    "  if i<ntrain:\n",
    "    train_data.append(dataset[itrg])\n",
    "    train_targ.append(targets[itrg])\n",
    "  else:\n",
    "    test_data.append(dataset[itrg])\n",
    "    test_targ.append(targets[itrg])\n",
    "\n",
    "  i += 1\n",
    "\n",
    "train_data = np.array(train_data)\n",
    "train_targ = np.array(train_targ)\n",
    "\n",
    "test_data = np.array(test_data)\n",
    "test_targ = np.array(test_targ)\n",
    "\n",
    "# 8*8 데이터로 변경\n",
    "train_data = train_data.reshape(-1,8,8)\n",
    "test_data = test_data.reshape(-1, 8, 8)\n",
    "\n",
    "\n",
    "print(\"train data shape: \", train_data.shape)\n",
    "print(\"train target shape: \", train_targ.shape)\n",
    "print(\"test data shape: \", test_data.shape)\n",
    "print(\"test target shape: \", test_targ.shape)"
   ]
  },
  {
   "cell_type": "code",
   "execution_count": 60,
   "metadata": {},
   "outputs": [
    {
     "data": {
      "image/png": "[encoded data removed]",
      "text/plain": [
       "<Figure size 576x576 with 2 Axes>"
      ]
     },
     "metadata": {
      "needs_background": "light"
     },
     "output_type": "display_data"
    }
   ],
   "source": [
    "import matplotlib.pyplot as plt\n",
    "\n",
    "plt.figure(figsize = (8,8))\n",
    "plt.imshow(train_data[0],cmap = plt.cm.binary)\n",
    "plt.colorbar()\n",
    "plt.grid(True)\n",
    "plt.show()"
   ]
  },
  {
   "cell_type": "code",
   "execution_count": 45,
   "metadata": {},
   "outputs": [
    {
     "data": {
      "image/png": "[encoded data removed]",
      "text/plain": [
       "<Figure size 576x576 with 25 Axes>"
      ]
     },
     "metadata": {},
     "output_type": "display_data"
    }
   ],
   "source": [
    "plt.figure(figsize=(8,8))\n",
    "for i in range(25):\n",
    "    plt.subplot(5,5,i+1)\n",
    "    plt.xticks([])\n",
    "    plt.yticks([])\n",
    "    plt.grid(True)\n",
    "    plt.imshow(train_data[i], cmap=plt.cm.binary)\n",
    "plt.show()"
   ]
  },
  {
   "cell_type": "code",
   "execution_count": 79,
   "metadata": {},
   "outputs": [
    {
     "name": "stdout",
     "output_type": "stream",
     "text": [
      "_________________________________________________________________\n",
      "Layer (type)                 Output Shape              Param #   \n",
      "=================================================================\n",
      "conv2d_25 (Conv2D)           (None, 8, 8, 1)           5         \n",
      "_________________________________________________________________\n",
      "max_pooling2d_21 (MaxPooling (None, 4, 4, 1)           0         \n",
      "_________________________________________________________________\n",
      "conv2d_26 (Conv2D)           (None, 4, 4, 1)           5         \n",
      "_________________________________________________________________\n",
      "max_pooling2d_22 (MaxPooling (None, 2, 2, 1)           0         \n",
      "_________________________________________________________________\n",
      "flatten_11 (Flatten)         (None, 4)                 0         \n",
      "_________________________________________________________________\n",
      "dense_21 (Dense)             (None, 8)                 40        \n",
      "_________________________________________________________________\n",
      "dense_22 (Dense)             (None, 1)                 9         \n",
      "=================================================================\n",
      "Total params: 59\n",
      "Trainable params: 59\n",
      "Non-trainable params: 0\n",
      "_________________________________________________________________\n"
     ]
    }
   ],
   "source": [
    "from tensorflow import keras\n",
    "from keras.models import Sequential\n",
    "from keras.layers import Dense, Dropout, Flatten\n",
    "from keras.layers.convolutional import Conv2D, MaxPooling2D\n",
    "\n",
    "model = Sequential()\n",
    "\n",
    "model.add(Conv2D(1, (2, 2), padding='same', activation ='relu', input_shape=(8,8,1)))\n",
    "model.add(MaxPooling2D(pool_size=(2,2)))\n",
    "model.add(Conv2D(1, (2, 2), padding='same', activation ='relu'))\n",
    "model.add(MaxPooling2D(pool_size=(2,2)))\n",
    "model.add(Flatten())\n",
    "model.add(Dense(8, activation='relu'))\n",
    "model.add(Dense(1, activation='softmax'))\n",
    "\n",
    "model.summary()"
   ]
  },
  {
   "cell_type": "code",
   "execution_count": 1,
   "metadata": {},
   "outputs": [
    {
     "ename": "NameError",
     "evalue": "name 'model' is not defined",
     "output_type": "error",
     "traceback": [
      "\u001b[1;31m---------------------------------------------------------------------------\u001b[0m",
      "\u001b[1;31mNameError\u001b[0m                                 Traceback (most recent call last)",
      "\u001b[1;32m<ipython-input-1-530a3dfad8d3>\u001b[0m in \u001b[0;36m<module>\u001b[1;34m()\u001b[0m\n\u001b[1;32m----> 1\u001b[1;33m model.compile(optimizer='adam',\n\u001b[0m\u001b[0;32m      2\u001b[0m               \u001b[0mloss\u001b[0m\u001b[1;33m=\u001b[0m\u001b[1;34m'mse'\u001b[0m\u001b[1;33m,\u001b[0m\u001b[1;33m\u001b[0m\u001b[0m\n\u001b[0;32m      3\u001b[0m               metrics=['accuracy'])\n",
      "\u001b[1;31mNameError\u001b[0m: name 'model' is not defined"
     ]
    }
   ],
   "source": [
    "model.compile(optimizer='adam',\n",
    "              loss='mse',\n",
    "              metrics=['accuracy'])"
   ]
  },
  {
   "cell_type": "code",
   "execution_count": 77,
   "metadata": {},
   "outputs": [
    {
     "name": "stdout",
     "output_type": "stream",
     "text": [
      "Epoch 1/5\n",
      "140/140 [==============================] - 0s 2ms/step - loss: 1.0441 - acc: 0.0000e+00\n",
      "Epoch 2/5\n",
      "140/140 [==============================] - 0s 79us/step - loss: 1.0441 - acc: 0.0000e+00\n",
      "Epoch 3/5\n",
      "140/140 [==============================] - 0s 86us/step - loss: 1.0441 - acc: 0.0000e+00\n",
      "Epoch 4/5\n",
      "140/140 [==============================] - 0s 86us/step - loss: 1.0441 - acc: 0.0000e+00\n",
      "Epoch 5/5\n",
      "140/140 [==============================] - 0s 79us/step - loss: 1.0441 - acc: 0.0000e+00\n"
     ]
    },
    {
     "data": {
      "text/plain": [
       "<keras.callbacks.History at 0x2ab78901f60>"
      ]
     },
     "execution_count": 77,
     "metadata": {},
     "output_type": "execute_result"
    }
   ],
   "source": [
    "train_data = train_data.reshape(-1,8,8,1)\n",
    "test_data = test_data.reshape(-1,8,8,1)\n",
    "\n",
    "model.fit(train_data, train_targ, epochs=5)"
   ]
  },
  {
   "cell_type": "code",
   "execution_count": 70,
   "metadata": {},
   "outputs": [
    {
     "name": "stdout",
     "output_type": "stream",
     "text": [
      "35/35 [==============================] - 0s 86us/step\n",
      "테스트 정확도: 0.0\n"
     ]
    }
   ],
   "source": [
    "test_loss, test_acc = model.evaluate(test_data, test_targ)\n",
    "\n",
    "print('테스트 정확도:', test_acc)"
   ]
  },
  {
   "cell_type": "code",
   "execution_count": 62,
   "metadata": {},
   "outputs": [
    {
     "name": "stdout",
     "output_type": "stream",
     "text": [
      "['2.507920348681866' '0.247964152281062' '2.3293419782992917'\n",
      " '1.245562216057079' '2.8472016250979677' '1.5493126753214095'\n",
      " '2.1916854300281043' '2.6487234242518705' '2.6011418174454723'\n",
      " '1.1009129535718778' '1.6394218341903175' '0.5460979324352006'\n",
      " '1.3627592476562012' '2.4550865729574864' '0.2126918943935795'\n",
      " '0.703356054598871' '2.57021692545422' '1.968509964979775'\n",
      " '1.5626546513003206' '1.1199610001365077' '0.2955585974039108'\n",
      " '2.1133330774668684' '1.33654276580396' '2.676408883826148'\n",
      " '0.6732316010012845' '2.3873454147557687' '1.3072735447353643'\n",
      " '2.4979940772720965' '1.7982537257936502' '1.2093312690382787'\n",
      " '0.6206349570674129' '2.1971342173261545' '0.4056805383831987'\n",
      " '1.5985263035345172' '0.5329735841486027']\n"
     ]
    }
   ],
   "source": [
    "print(test_targ)"
   ]
  },
  {
   "cell_type": "code",
   "execution_count": null,
   "metadata": {},
   "outputs": [],
   "source": []
  }
 ],
 "metadata": {
  "kernelspec": {
   "display_name": "Python 3",
   "language": "python",
   "name": "python3"
  },
  "language_info": {
   "codemirror_mode": {
    "name": "ipython",
    "version": 3
   },
   "file_extension": ".py",
   "mimetype": "text/x-python",
   "name": "python",
   "nbconvert_exporter": "python",
   "pygments_lexer": "ipython3",
   "version": "3.5.5"
  }
 },
 "nbformat": 4,
 "nbformat_minor": 2
}
