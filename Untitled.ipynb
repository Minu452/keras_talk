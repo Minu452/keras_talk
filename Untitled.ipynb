{
 "cells": [
  {
   "cell_type": "code",
   "execution_count": 1,
   "metadata": {},
   "outputs": [
    {
     "name": "stdout",
     "output_type": "stream",
     "text": [
      "(175, 64)\n",
      "(175,)\n"
     ]
    }
   ],
   "source": [
    "import requests\n",
    "import shutil\n",
    "\n",
    "import numpy as np\n",
    "\n",
    "# Load data from url\n",
    "# Copy the file content from url to local tmp.npy file \n",
    "# then load the numpy data and return\n",
    "def load_from_url(url):\n",
    "  resp = requests.get(url, stream=True)\n",
    "  \n",
    "  with open('tmp.npy', 'wb') as f:\n",
    "    shutil.copyfileobj(resp.raw, f)\n",
    "   \n",
    "  var = np.load('tmp.npy')\n",
    "  \n",
    "  return var\n",
    "#인풋 데이터 datin 변수에 로드, 아웃풋 데이터는 target 변수에 로드\n",
    "\n",
    "datin = load_from_url('https://github.com/geonhong/mlcfd/blob/master/volfrac/samples/volfrac_data.npy?raw=true')\n",
    "target = load_from_url('https://github.com/geonhong/mlcfd/blob/master/volfrac/samples/volfrac_target.npy?raw=true')\n",
    "\n",
    "print(datin.shape)\n",
    "print(target.shape)"
   ]
  },
  {
   "cell_type": "code",
   "execution_count": null,
   "metadata": {},
   "outputs": [],
   "source": [
    "import matplotlib.pyplot as plt\n",
    "\n",
    "#데이터셋 확인(2차원)\n",
    "\n",
    "plot_x = datin[]"
   ]
  },
  {
   "cell_type": "code",
   "execution_count": null,
   "metadata": {},
   "outputs": [],
   "source": []
  }
 ],
 "metadata": {
  "kernelspec": {
   "display_name": "Python 3",
   "language": "python",
   "name": "python3"
  },
  "language_info": {
   "codemirror_mode": {
    "name": "ipython",
    "version": 3
   },
   "file_extension": ".py",
   "mimetype": "text/x-python",
   "name": "python",
   "nbconvert_exporter": "python",
   "pygments_lexer": "ipython3",
   "version": "3.5.5"
  }
 },
 "nbformat": 4,
 "nbformat_minor": 2
}
