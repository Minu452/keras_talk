{
 "cells": [
  {
   "cell_type": "code",
   "execution_count": 1,
   "metadata": {},
   "outputs": [],
   "source": [
    "\n",
    "%matplotlib inline\n",
    "import numpy as np\n",
    "import tensorflow as tf\n",
    "import matplotlib.pyplot as plt"
   ]
  },
  {
   "cell_type": "code",
   "execution_count": 2,
   "metadata": {},
   "outputs": [
    {
     "name": "stdout",
     "output_type": "stream",
     "text": [
      "(175, 64)\n",
      "(175,)\n"
     ]
    }
   ],
   "source": [
    "import requests\n",
    "import shutil\n",
    "\n",
    "import numpy as np\n",
    "\n",
    "# Load data from url\n",
    "# Copy the file content from url to local tmp.npy file \n",
    "# then load the numpy data and return\n",
    "def load_from_url(url):\n",
    "  resp = requests.get(url, stream=True)\n",
    "  \n",
    "  with open('tmp.npy', 'wb') as f:\n",
    "    shutil.copyfileobj(resp.raw, f)\n",
    "   \n",
    "  var = np.load('tmp.npy')\n",
    "  \n",
    "  return var\n",
    "#인풋 데이터 datin 변수에 로드, 아웃풋 데이터는 target 변수에 로드\n",
    "\n",
    "datin = load_from_url('https://github.com/geonhong/mlcfd/blob/master/volfrac/samples/volfrac_data.npy?raw=true')\n",
    "target = load_from_url('https://github.com/geonhong/mlcfd/blob/master/volfrac/samples/volfrac_target.npy?raw=true')\n",
    "\n",
    "print(datin.shape)\n",
    "print(target.shape)\n",
    "\n"
   ]
  },
  {
   "cell_type": "code",
   "execution_count": 5,
   "metadata": {},
   "outputs": [
    {
     "name": "stdout",
     "output_type": "stream",
     "text": [
      "(175, 64)\n",
      "(175,)\n",
      "train data shape:  (140, 8, 8)\n",
      "train target shape:  (140,)\n",
      "test data shape:  (35, 8, 8)\n",
      "test target shape:  (35,)\n"
     ]
    }
   ],
   "source": [
    "dataset = datin\n",
    "targets = target\n",
    "\n",
    "print(dataset.shape)\n",
    "print(targets.shape)\n",
    "\n",
    "# Shuffle data and generate train/test data set\n",
    "# 80% of dataset is used to train the model and\n",
    "# the rest 20% is used to test\n",
    "index = np.arange(len(dataset))\n",
    "np.random.shuffle(index)\n",
    "\n",
    "train_data = []\n",
    "train_targ = []\n",
    "\n",
    "test_data = []\n",
    "test_targ = []\n",
    "\n",
    "i = 0\n",
    "ntrain = 0.8*len(dataset)\n",
    "\n",
    "for itrg in index:\n",
    "  if i<ntrain:\n",
    "    train_data.append(dataset[itrg])\n",
    "    train_targ.append(targets[itrg])\n",
    "  else:\n",
    "    test_data.append(dataset[itrg])\n",
    "    test_targ.append(targets[itrg])\n",
    "\n",
    "  i += 1\n",
    "\n",
    "train_data = np.array(train_data)\n",
    "train_targ = np.array(train_targ)\n",
    "\n",
    "test_data = np.array(test_data)\n",
    "test_targ = np.array(test_targ)\n",
    "\n",
    "# 8*8 데이터로 변경\n",
    "train_data = train_data.reshape(-1,8,8)\n",
    "test_data = test_data.reshape(-1, 8, 8)\n",
    "\n",
    "\n",
    "print(\"train data shape: \", train_data.shape)\n",
    "print(\"train target shape: \", train_targ.shape)\n",
    "print(\"test data shape: \", test_data.shape)\n",
    "print(\"test target shape: \", test_targ.shape)"
   ]
  },
  {
   "cell_type": "code",
   "execution_count": null,
   "metadata": {},
   "outputs": [],
   "source": []
  }
 ],
 "metadata": {
  "kernelspec": {
   "display_name": "Python 3",
   "language": "python",
   "name": "python3"
  },
  "language_info": {
   "codemirror_mode": {
    "name": "ipython",
    "version": 3
   },
   "file_extension": ".py",
   "mimetype": "text/x-python",
   "name": "python",
   "nbconvert_exporter": "python",
   "pygments_lexer": "ipython3",
   "version": "3.5.5"
  }
 },
 "nbformat": 4,
 "nbformat_minor": 2
}
