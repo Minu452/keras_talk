{
 "cells": [
  {
   "cell_type": "code",
   "execution_count": 3,
   "metadata": {},
   "outputs": [
    {
     "data": {
      "image/png": "[encoded data removed]",
      "text/plain": [
       "<Figure size 432x288 with 1 Axes>"
      ]
     },
     "metadata": {
      "needs_background": "light"
     },
     "output_type": "display_data"
    }
   ],
   "source": [
    "import numpy as np\n",
    "\n",
    "#데이터셋 생성 \n",
    "x_train = np.random.random((1000, 1))\n",
    "y_train = x_train * 2 + np.random.random((1000,1)) / 3.0\n",
    "x_test = np.random.random((100,1))\n",
    "y_test = x_test * 2 + np.random.random((100,1)) / 3.0\n",
    "\n",
    "#데이터셋 확인\n",
    "\n",
    "import matplotlib.pyplot as plt\n",
    "plt.plot(x_train, y_train, 'ro')\n",
    "plt.plot(x_test, y_test, 'bo')\n",
    "plt.legend(['train', 'test'], loc = 'upper left')\n",
    "plt.show()\n"
   ]
  },
  {
   "cell_type": "code",
   "execution_count": 6,
   "metadata": {},
   "outputs": [
    {
     "name": "stderr",
     "output_type": "stream",
     "text": [
      "W0804 16:25:47.122815  8212 deprecation_wrapper.py:119] From C:\\ProgramData\\Anaconda3\\lib\\site-packages\\keras\\optimizers.py:790: The name tf.train.Optimizer is deprecated. Please use tf.compat.v1.train.Optimizer instead.\n",
      "\n",
      "W0804 16:25:47.583680  8212 deprecation_wrapper.py:119] From C:\\ProgramData\\Anaconda3\\lib\\site-packages\\keras\\backend\\tensorflow_backend.py:986: The name tf.assign_add is deprecated. Please use tf.compat.v1.assign_add instead.\n",
      "\n",
      "W0804 16:25:47.588666  8212 deprecation_wrapper.py:119] From C:\\ProgramData\\Anaconda3\\lib\\site-packages\\keras\\backend\\tensorflow_backend.py:973: The name tf.assign is deprecated. Please use tf.compat.v1.assign instead.\n",
      "\n"
     ]
    },
    {
     "name": "stdout",
     "output_type": "stream",
     "text": [
      "Epoch 1/50\n",
      "1000/1000 [==============================] - 1s 881us/step - loss: 0.9718\n",
      "Epoch 2/50\n",
      "1000/1000 [==============================] - 0s 13us/step - loss: 0.2264\n",
      "Epoch 3/50\n",
      "1000/1000 [==============================] - 0s 10us/step - loss: 0.0414\n",
      "Epoch 4/50\n",
      "1000/1000 [==============================] - 0s 12us/step - loss: 0.0246\n",
      "Epoch 5/50\n",
      "1000/1000 [==============================] - 0s 11us/step - loss: 0.0156\n",
      "Epoch 6/50\n",
      "1000/1000 [==============================] - 0s 11us/step - loss: 0.0112\n",
      "Epoch 7/50\n",
      "1000/1000 [==============================] - 0s 10us/step - loss: 0.0099\n",
      "Epoch 8/50\n",
      "1000/1000 [==============================] - 0s 11us/step - loss: 0.0102\n",
      "Epoch 9/50\n",
      "1000/1000 [==============================] - 0s 11us/step - loss: 0.0101\n",
      "Epoch 10/50\n",
      "1000/1000 [==============================] - 0s 9us/step - loss: 0.0102\n",
      "Epoch 11/50\n",
      "1000/1000 [==============================] - 0s 9us/step - loss: 0.0100\n",
      "Epoch 12/50\n",
      "1000/1000 [==============================] - 0s 10us/step - loss: 0.0097\n",
      "Epoch 13/50\n",
      "1000/1000 [==============================] - 0s 10us/step - loss: 0.0106\n",
      "Epoch 14/50\n",
      "1000/1000 [==============================] - 0s 9us/step - loss: 0.0099\n",
      "Epoch 15/50\n",
      "1000/1000 [==============================] - 0s 11us/step - loss: 0.0101\n",
      "Epoch 16/50\n",
      "1000/1000 [==============================] - 0s 10us/step - loss: 0.0099\n",
      "Epoch 17/50\n",
      "1000/1000 [==============================] - 0s 10us/step - loss: 0.0103\n",
      "Epoch 18/50\n",
      "1000/1000 [==============================] - 0s 10us/step - loss: 0.0101\n",
      "Epoch 19/50\n",
      "1000/1000 [==============================] - 0s 10us/step - loss: 0.0101\n",
      "Epoch 20/50\n",
      "1000/1000 [==============================] - 0s 9us/step - loss: 0.0101\n",
      "Epoch 21/50\n",
      "1000/1000 [==============================] - 0s 11us/step - loss: 0.0099\n",
      "Epoch 22/50\n",
      "1000/1000 [==============================] - 0s 10us/step - loss: 0.0104\n",
      "Epoch 23/50\n",
      "1000/1000 [==============================] - 0s 10us/step - loss: 0.0100\n",
      "Epoch 24/50\n",
      "1000/1000 [==============================] - 0s 11us/step - loss: 0.0103\n",
      "Epoch 25/50\n",
      "1000/1000 [==============================] - 0s 9us/step - loss: 0.0101\n",
      "Epoch 26/50\n",
      "1000/1000 [==============================] - 0s 10us/step - loss: 0.0103\n",
      "Epoch 27/50\n",
      "1000/1000 [==============================] - 0s 9us/step - loss: 0.0099\n",
      "Epoch 28/50\n",
      "1000/1000 [==============================] - 0s 10us/step - loss: 0.0104\n",
      "Epoch 29/50\n",
      "1000/1000 [==============================] - 0s 11us/step - loss: 0.0097\n",
      "Epoch 30/50\n",
      "1000/1000 [==============================] - 0s 11us/step - loss: 0.0101\n",
      "Epoch 31/50\n",
      "1000/1000 [==============================] - 0s 10us/step - loss: 0.0099\n",
      "Epoch 32/50\n",
      "1000/1000 [==============================] - 0s 10us/step - loss: 0.0101\n",
      "Epoch 33/50\n",
      "1000/1000 [==============================] - 0s 9us/step - loss: 0.0101\n",
      "Epoch 34/50\n",
      "1000/1000 [==============================] - 0s 11us/step - loss: 0.0101\n",
      "Epoch 35/50\n",
      "1000/1000 [==============================] - 0s 10us/step - loss: 0.0103\n",
      "Epoch 36/50\n",
      "1000/1000 [==============================] - 0s 10us/step - loss: 0.0100\n",
      "Epoch 37/50\n",
      "1000/1000 [==============================] - 0s 12us/step - loss: 0.0098\n",
      "Epoch 38/50\n",
      "1000/1000 [==============================] - 0s 10us/step - loss: 0.0100\n",
      "Epoch 39/50\n",
      "1000/1000 [==============================] - 0s 10us/step - loss: 0.0101\n",
      "Epoch 40/50\n",
      "1000/1000 [==============================] - 0s 10us/step - loss: 0.0099\n",
      "Epoch 41/50\n",
      "1000/1000 [==============================] - 0s 10us/step - loss: 0.0103\n",
      "Epoch 42/50\n",
      "1000/1000 [==============================] - 0s 10us/step - loss: 0.0096\n",
      "Epoch 43/50\n",
      "1000/1000 [==============================] - 0s 10us/step - loss: 0.0101\n",
      "Epoch 44/50\n",
      "1000/1000 [==============================] - 0s 10us/step - loss: 0.0103\n",
      "Epoch 45/50\n",
      "1000/1000 [==============================] - 0s 11us/step - loss: 0.0097\n",
      "Epoch 46/50\n",
      "1000/1000 [==============================] - 0s 10us/step - loss: 0.0103\n",
      "Epoch 47/50\n",
      "1000/1000 [==============================] - 0s 10us/step - loss: 0.0102\n",
      "Epoch 48/50\n",
      "1000/1000 [==============================] - 0s 10us/step - loss: 0.0103\n",
      "Epoch 49/50\n",
      "1000/1000 [==============================] - 0s 11us/step - loss: 0.0101\n",
      "Epoch 50/50\n",
      "1000/1000 [==============================] - 0s 10us/step - loss: 0.0100\n"
     ]
    }
   ],
   "source": [
    "#사용할 패키지 불러오기 \n",
    "\n",
    "from keras.models import Sequential\n",
    "from keras.layers import Dense\n",
    "import random\n",
    "\n",
    "#모델 구성하기\n",
    "\n",
    "model = Sequential()\n",
    "model.add(Dense(64, input_dim = 1, activation='relu'))\n",
    "model.add(Dense(64, activation='relu'))\n",
    "model.add(Dense(1))\n",
    "\n",
    "#모델 학습과정 설정하기\n",
    "model.compile(optimizer='rmsprop', loss='mse')\n",
    "\n",
    "#모델 학습시키기\n",
    "hist = model.fit(x_train, y_train, epochs = 50, batch_size=64)\n"
   ]
  },
  {
   "cell_type": "code",
   "execution_count": 10,
   "metadata": {},
   "outputs": [
    {
     "data": {
      "image/png": "[encoded data removed]",
      "text/plain": [
       "<Figure size 432x288 with 1 Axes>"
      ]
     },
     "metadata": {
      "needs_background": "light"
     },
     "output_type": "display_data"
    },
    {
     "name": "stdout",
     "output_type": "stream",
     "text": [
      "100/100 [==============================] - 0s 20us/step\n",
      "loss : 0.009978941343724727\n"
     ]
    }
   ],
   "source": [
    "#학습과정 살펴보기\n",
    "%matplotlib inline\n",
    "\n",
    "import matplotlib.pyplot as plt\n",
    "\n",
    "plt.plot(hist.history['loss'])\n",
    "plt.ylim(0.0, 2.0)\n",
    "plt.ylabel('loss')\n",
    "plt.xlabel('epoch')\n",
    "plt.legend(['train'], loc='upper left')\n",
    "plt.show()\n",
    "\n",
    "#모델 평가하기\n",
    "loss = model.evaluate(x_test, y_test, batch_size=32)\n",
    "print('loss : ' + str(loss))"
   ]
  },
  {
   "cell_type": "code",
   "execution_count": null,
   "metadata": {},
   "outputs": [],
   "source": []
  }
 ],
 "metadata": {
  "kernelspec": {
   "display_name": "Python 3",
   "language": "python",
   "name": "python3"
  },
  "language_info": {
   "codemirror_mode": {
    "name": "ipython",
    "version": 3
   },
   "file_extension": ".py",
   "mimetype": "text/x-python",
   "name": "python",
   "nbconvert_exporter": "python",
   "pygments_lexer": "ipython3",
   "version": "3.7.3"
  }
 },
 "nbformat": 4,
 "nbformat_minor": 2
}
